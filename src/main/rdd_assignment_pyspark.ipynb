{
 "cells": [
  {
   "cell_type": "code",
   "execution_count": 1,
   "id": "77622034-9253-49f5-a5f5-f7369f4f360d",
   "metadata": {},
   "outputs": [],
   "source": [
    "import findspark\n",
    "findspark.init()  # Auto-detects SPARK_HOME\n",
    "\n",
    "from pprint import pprint\n",
    "import json\n",
    "from typing import List\n",
    "from datetime import datetime\n",
    "\n",
    "from pyspark.sql import SparkSession\n",
    "from pyspark import SparkContext"
   ]
  },
  {
   "cell_type": "code",
   "execution_count": 2,
   "id": "5c7bdafc-e6cf-4040-84ad-cc66434d63ce",
   "metadata": {},
   "outputs": [
    {
     "name": "stderr",
     "output_type": "stream",
     "text": [
      "25/02/06 23:51:23 WARN Utils: Your hostname, cbakos-laptop resolves to a loopback address: 127.0.1.1; using 192.168.178.143 instead (on interface wlp0s20f3)\n",
      "25/02/06 23:51:23 WARN Utils: Set SPARK_LOCAL_IP if you need to bind to another address\n",
      "Setting default log level to \"WARN\".\n",
      "To adjust logging level use sc.setLogLevel(newLevel). For SparkR, use setLogLevel(newLevel).\n",
      "25/02/06 23:51:24 WARN NativeCodeLoader: Unable to load native-hadoop library for your platform... using builtin-java classes where applicable\n",
      "                                                                                "
     ]
    },
    {
     "name": "stdout",
     "output_type": "stream",
     "text": [
      "root\n",
      " |-- _id: struct (nullable = true)\n",
      " |    |-- $oid: string (nullable = true)\n",
      " |-- author: struct (nullable = true)\n",
      " |    |-- avatar_url: string (nullable = true)\n",
      " |    |-- id: long (nullable = true)\n",
      " |    |-- login: string (nullable = true)\n",
      " |    |-- site_admin: boolean (nullable = true)\n",
      " |    |-- type: string (nullable = true)\n",
      " |-- commit: struct (nullable = true)\n",
      " |    |-- author: struct (nullable = true)\n",
      " |    |    |-- date: string (nullable = true)\n",
      " |    |    |-- email: string (nullable = true)\n",
      " |    |    |-- name: string (nullable = true)\n",
      " |    |-- comment_count: long (nullable = true)\n",
      " |    |-- committer: struct (nullable = true)\n",
      " |    |    |-- date: string (nullable = true)\n",
      " |    |    |-- email: string (nullable = true)\n",
      " |    |    |-- name: string (nullable = true)\n",
      " |    |-- message: string (nullable = true)\n",
      " |    |-- tree: struct (nullable = true)\n",
      " |    |    |-- sha: string (nullable = true)\n",
      " |    |-- verification: struct (nullable = true)\n",
      " |    |    |-- payload: string (nullable = true)\n",
      " |    |    |-- reason: string (nullable = true)\n",
      " |    |    |-- signature: string (nullable = true)\n",
      " |    |    |-- verified: boolean (nullable = true)\n",
      " |-- committer: struct (nullable = true)\n",
      " |    |-- avatar_url: string (nullable = true)\n",
      " |    |-- id: long (nullable = true)\n",
      " |    |-- login: string (nullable = true)\n",
      " |    |-- site_admin: boolean (nullable = true)\n",
      " |    |-- type: string (nullable = true)\n",
      " |-- files: array (nullable = true)\n",
      " |    |-- element: struct (containsNull = true)\n",
      " |    |    |-- additions: long (nullable = true)\n",
      " |    |    |-- blob_url: string (nullable = true)\n",
      " |    |    |-- changes: long (nullable = true)\n",
      " |    |    |-- contents_url: string (nullable = true)\n",
      " |    |    |-- deletions: long (nullable = true)\n",
      " |    |    |-- filename: string (nullable = true)\n",
      " |    |    |-- patch: string (nullable = true)\n",
      " |    |    |-- raw_url: string (nullable = true)\n",
      " |    |    |-- sha: string (nullable = true)\n",
      " |    |    |-- status: string (nullable = true)\n",
      " |-- node_id: string (nullable = true)\n",
      " |-- parents: array (nullable = true)\n",
      " |    |-- element: struct (containsNull = true)\n",
      " |    |    |-- sha: string (nullable = true)\n",
      " |-- sha: string (nullable = true)\n",
      " |-- stats: struct (nullable = true)\n",
      " |    |-- additions: long (nullable = true)\n",
      " |    |-- deletions: long (nullable = true)\n",
      " |    |-- total: long (nullable = true)\n",
      " |-- url: string (nullable = true)\n",
      "\n"
     ]
    }
   ],
   "source": [
    "spark = SparkSession.builder \\\n",
    "    .master(\"local[*]\") \\\n",
    "    .appName(\"PySpark RDD Assignment\") \\\n",
    "    .getOrCreate()\n",
    "\n",
    "sc = spark.sparkContext\n",
    "\n",
    "# first load to DF because we have a multiline json\n",
    "commits_df = spark.read.option(\"multiline\", \"true\") \\\n",
    "      .json(\"../data/data_raw.json\")\n",
    "\n",
    "# show df schema\n",
    "commits_df.printSchema()"
   ]
  },
  {
   "cell_type": "code",
   "execution_count": 3,
   "id": "daba07dd-9cc9-4937-90da-e35a28f66b57",
   "metadata": {
    "scrolled": true
   },
   "outputs": [
    {
     "name": "stderr",
     "output_type": "stream",
     "text": [
      "[Stage 1:>                                                          (0 + 1) / 1]"
     ]
    },
    {
     "name": "stdout",
     "output_type": "stream",
     "text": [
      "{'_id': {'$oid': '5ce691346480fd1565a33621'},\n",
      " 'author': {'avatar_url': 'https://avatars2.githubusercontent.com/u/691258?v=4',\n",
      "            'id': 691258,\n",
      "            'login': 'emericg',\n",
      "            'site_admin': False,\n",
      "            'type': 'User'},\n",
      " 'commit': {'author': {'date': '2019-05-23T12:19:58.000Z',\n",
      "                       'email': 'emeric.grange@gmail.com',\n",
      "                       'name': 'Emeric'},\n",
      "            'comment_count': 0,\n",
      "            'committer': {'date': '2019-05-23T12:19:58.000Z',\n",
      "                          'email': 'emeric.grange@gmail.com',\n",
      "                          'name': 'Emeric'},\n",
      "            'message': 'Minor UI improvements',\n",
      "            'tree': {'sha': '79cb4c492cc6205cd6c90c76a2e777366547f875'},\n",
      "            'verification': {'reason': 'unsigned', 'verified': False}},\n",
      " 'committer': {'avatar_url': 'https://avatars2.githubusercontent.com/u/691258?v=4',\n",
      "               'id': 691258,\n",
      "               'login': 'emericg',\n",
      "               'site_admin': False,\n",
      "               'type': 'User'},\n",
      " 'files': [{'additions': 23,\n",
      "            'blob_url': 'https://github.com/emericg/OffloadBuddy/blob/40ff3ffd2c869f777ba15e4eb18d154262a277a5/qml/PopupConfirm.qml',\n",
      "            'changes': 27,\n",
      "            'contents_url': 'https://api.github.com/repos/emericg/OffloadBuddy/contents/qml/PopupConfirm.qml?ref=40ff3ffd2c869f777ba15e4eb18d154262a277a5',\n",
      "            'deletions': 4,\n",
      "            'filename': 'qml/PopupConfirm.qml',\n",
      "            'patch': '@@ -5,12 +5,12 @@ import com.offloadbuddy.theme 1.0\\n'\n",
      "                     ' \\n'\n",
      "                     ' Popup {\\n'\n",
      "                     '     id: popupConfirm\\n'\n",
      "                     '-    width: 480\\n'\n",
      "                     '-    height: 256\\n'\n",
      "                     '+    width: 640\\n'\n",
      "                     '+    height: (files.length) ? 320 : 180\\n'\n",
      "                     ' \\n'\n",
      "                     '     signal confirmed()\\n'\n",
      "                     '     property string message\\n'\n",
      "                     '-    property string files: []\\n'\n",
      "                     '+    property var files: []\\n'\n",
      "                     ' \\n'\n",
      "                     '     modal: true\\n'\n",
      "                     '     focus: true\\n'\n",
      "                     '@@ -35,6 +35,24 @@ Popup {\\n'\n",
      "                     '         horizontalAlignment: Text.AlignHCenter\\n'\n",
      "                     '         wrapMode: Text.WordWrap\\n'\n",
      "                     '         font.pixelSize: 20\\n'\n",
      "                     '+        color: Theme.colorText\\n'\n",
      "                     '+    }\\n'\n",
      "                     '+\\n'\n",
      "                     '+    ListView {\\n'\n",
      "                     '+        id: listArea\\n'\n",
      "                     '+        anchors.bottom: row.top\\n'\n",
      "                     '+        anchors.bottomMargin: 24\\n'\n",
      "                     '+        anchors.top: textArea.bottom\\n'\n",
      "                     '+        anchors.topMargin: 24\\n'\n",
      "                     '+        anchors.right: parent.right\\n'\n",
      "                     '+        anchors.rightMargin: 24\\n'\n",
      "                     '+        anchors.left: parent.left\\n'\n",
      "                     '+        anchors.leftMargin: 24\\n'\n",
      "                     '+\\n'\n",
      "                     '+        visible: files.length\\n'\n",
      "                     '+        clip: true\\n'\n",
      "                     '+        model: files\\n'\n",
      "                     '+        delegate: Text { text: modelData; color: '\n",
      "                     'Theme.colorText; }\\n'\n",
      "                     '     }\\n'\n",
      "                     ' \\n'\n",
      "                     '     Row {\\n'\n",
      "                     '@@ -49,7 +67,7 @@ Popup {\\n'\n",
      "                     '             id: buttonConfirm\\n'\n",
      "                     '             anchors.verticalCenter: '\n",
      "                     'parent.verticalCenter\\n'\n",
      "                     ' \\n'\n",
      "                     '-            text: qsTr(\"Confirm\")\\n'\n",
      "                     '+            text: qsTr(\"Delete\")\\n'\n",
      "                     '             source: '\n",
      "                     '\"qrc:/icons_material/baseline-delete-24px.svg\"\\n'\n",
      "                     '             fullColor: true\\n'\n",
      "                     '             primaryColor: Theme.colorError\\n'\n",
      "                     '@@ -64,6 +82,7 @@ Popup {\\n'\n",
      "                     '             anchors.verticalCenter: '\n",
      "                     'parent.verticalCenter\\n'\n",
      "                     ' \\n'\n",
      "                     '             text: qsTr(\"Cancel\")\\n'\n",
      "                     '+            primaryColor: Theme.colorPrimary\\n'\n",
      "                     '             onClicked: {\\n'\n",
      "                     '                 popupConfirm.close();\\n'\n",
      "                     '             }',\n",
      "            'raw_url': 'https://github.com/emericg/OffloadBuddy/raw/40ff3ffd2c869f777ba15e4eb18d154262a277a5/qml/PopupConfirm.qml',\n",
      "            'sha': 'b5f84d3042213d45ab883d1e264b492c345b2145',\n",
      "            'status': 'modified'},\n",
      "           {'additions': 2,\n",
      "            'blob_url': 'https://github.com/emericg/OffloadBuddy/blob/40ff3ffd2c869f777ba15e4eb18d154262a277a5/qml/ScreenLibraryGrid.qml',\n",
      "            'changes': 4,\n",
      "            'contents_url': 'https://api.github.com/repos/emericg/OffloadBuddy/contents/qml/ScreenLibraryGrid.qml?ref=40ff3ffd2c869f777ba15e4eb18d154262a277a5',\n",
      "            'deletions': 2,\n",
      "            'filename': 'qml/ScreenLibraryGrid.qml',\n",
      "            'patch': '@@ -110,7 +110,7 @@ Item {\\n'\n",
      "                     '         x: (applicationWindow.width / 2) - '\n",
      "                     '(confirmDeleteMultipleFilesPopup.width / 2) - '\n",
      "                     '(applicationSidebar.width / 2)\\n'\n",
      "                     '         y: (applicationWindow.height / 2) - '\n",
      "                     '(confirmDeleteMultipleFilesPopup.height / 2)\\n'\n",
      "                     ' \\n'\n",
      "                     '-        message: qsTr(\"Delete these selected files?\")\\n'\n",
      "                     '+        message: qsTr(\"Are you sure you want to delete '\n",
      "                     'the selected files?\")\\n'\n",
      "                     '         onConfirmed: {\\n'\n",
      "                     '             //\\n'\n",
      "                     '         }\\n'\n",
      "                     '@@ -121,7 +121,7 @@ Item {\\n'\n",
      "                     '         x: (applicationWindow.width / 2) - '\n",
      "                     '(confirmDeleteSingleFilePopup.width / 2) - '\n",
      "                     '(applicationSidebar.width / 2)\\n'\n",
      "                     '         y: (applicationWindow.height / 2) - '\n",
      "                     '(confirmDeleteSingleFilePopup.height / 2)\\n'\n",
      "                     ' \\n'\n",
      "                     '-        message: qsTr(\"Are you sure you want to delete '\n",
      "                     'the selected file?\")\\n'\n",
      "                     '+        message: qsTr(\"Are you sure you want to delete '\n",
      "                     'this file?\")\\n'\n",
      "                     '         onConfirmed: {\\n'\n",
      "                     '             '\n",
      "                     'mediaLibrary.deleteSelected(selectedItemUuid)\\n'\n",
      "                     ' ',\n",
      "            'raw_url': 'https://github.com/emericg/OffloadBuddy/raw/40ff3ffd2c869f777ba15e4eb18d154262a277a5/qml/ScreenLibraryGrid.qml',\n",
      "            'sha': '61befb6ca46a733c5d304b9e96456098a1d1ad15',\n",
      "            'status': 'modified'},\n",
      "           {'additions': 2,\n",
      "            'blob_url': 'https://github.com/emericg/OffloadBuddy/blob/40ff3ffd2c869f777ba15e4eb18d154262a277a5/qml/ScreenMedia.qml',\n",
      "            'changes': 4,\n",
      "            'contents_url': 'https://api.github.com/repos/emericg/OffloadBuddy/contents/qml/ScreenMedia.qml?ref=40ff3ffd2c869f777ba15e4eb18d154262a277a5',\n",
      "            'deletions': 2,\n",
      "            'filename': 'qml/ScreenMedia.qml',\n",
      "            'patch': '@@ -114,7 +114,7 @@ Item {\\n'\n",
      "                     '                 width: 80\\n'\n",
      "                     '                 height: 28\\n'\n",
      "                     '                 opacity: 0.8\\n'\n",
      "                     '-                color: Theme.colorForeground\\n'\n",
      "                     '+                color: Theme.colorBackground\\n'\n",
      "                     ' \\n'\n",
      "                     '                 Text {\\n'\n",
      "                     '                     id: codecVideoText\\n'\n",
      "                     '@@ -135,7 +135,7 @@ Item {\\n'\n",
      "                     '                 width: 80\\n'\n",
      "                     '                 height: 28\\n'\n",
      "                     '                 opacity: 0.8\\n'\n",
      "                     '-                color: Theme.colorForeground\\n'\n",
      "                     '+                color: Theme.colorBackground\\n'\n",
      "                     ' \\n'\n",
      "                     '                 Text {\\n'\n",
      "                     '                     id: codecAudioText',\n",
      "            'raw_url': 'https://github.com/emericg/OffloadBuddy/raw/40ff3ffd2c869f777ba15e4eb18d154262a277a5/qml/ScreenMedia.qml',\n",
      "            'sha': '99ba9751631166fd3b2079b37d82ab9388d569d4',\n",
      "            'status': 'modified'},\n",
      "           {'additions': 7,\n",
      "            'blob_url': 'https://github.com/emericg/OffloadBuddy/blob/40ff3ffd2c869f777ba15e4eb18d154262a277a5/qml/ThemeEngine.qml',\n",
      "            'changes': 14,\n",
      "            'contents_url': 'https://api.github.com/repos/emericg/OffloadBuddy/contents/qml/ThemeEngine.qml?ref=40ff3ffd2c869f777ba15e4eb18d154262a277a5',\n",
      "            'deletions': 7,\n",
      "            'filename': 'qml/ThemeEngine.qml',\n",
      "            'patch': '@@ -66,11 +66,11 @@ Item {\\n'\n",
      "                     '             colorSidebar =          \"#607D8B\"\\n'\n",
      "                     '             colorSidebarContent =   \"#ffffff\"\\n'\n",
      "                     ' \\n'\n",
      "                     '-            colorHeader =           \"#D0D0D0\"\\n'\n",
      "                     '+            colorHeader =           \"#E9E9E9\"\\n'\n",
      "                     '             colorHeaderContent =    \"#353637\" // sub: '\n",
      "                     '\"#000000\"\\n'\n",
      "                     ' \\n'\n",
      "                     '-            colorBackground =       \"#EEEEEE\"\\n'\n",
      "                     '-            colorForeground =       \"#E0E0E0\"\\n'\n",
      "                     '+            colorBackground =       \"#FFFFFF\"\\n'\n",
      "                     '+            colorForeground =       \"#F0F0F0\"\\n'\n",
      "                     ' \\n'\n",
      "                     '             colorText =             \"#000000\"\\n'\n",
      "                     '             colorSubText =          \"#606060\"\\n'\n",
      "                     '@@ -81,11 +81,11 @@ Item {\\n'\n",
      "                     '             colorWarning =          \"#FFC107\"\\n'\n",
      "                     '             colorError =            \"#FF5722\"\\n'\n",
      "                     ' \\n'\n",
      "                     '-            colorButton =           \"#DBDBDB\"\\n'\n",
      "                     '+            colorButton =           \"#D9D9D9\"\\n'\n",
      "                     '             colorButtonDown =       \"#c1c1c1\"\\n'\n",
      "                     '             colorButtonText =       \"#000000\"\\n'\n",
      "                     '-            colorButtonHover =      \"#E4E4E4\"\\n'\n",
      "                     '-            colorProgressBarBg =    \"#E4E4E4\"\\n'\n",
      "                     '+            colorButtonHover =      \"#E0E0E0\"\\n'\n",
      "                     '+            colorProgressBarBg =    \"#E0E0E0\"\\n'\n",
      "                     ' \\n'\n",
      "                     '             selector =              \"arrow\"\\n'\n",
      "                     ' \\n'\n",
      "                     '@@ -109,7 +109,7 @@ Item {\\n'\n",
      "                     '             colorPrimary =          \"#ff9f1a\"\\n'\n",
      "                     '             colorSecondary =        \"#c56cf0\"\\n'\n",
      "                     '             colorWarning =          \"#ee2b57\"\\n'\n",
      "                     '-            colorError =            \"#FFDB63\"\\n'\n",
      "                     '+            colorError =            \"#ee2b57\"\\n'\n",
      "                     ' \\n'\n",
      "                     '             colorButton =           \"#555555\"\\n'\n",
      "                     '             colorButtonDown =       \"#333333\"',\n",
      "            'raw_url': 'https://github.com/emericg/OffloadBuddy/raw/40ff3ffd2c869f777ba15e4eb18d154262a277a5/qml/ThemeEngine.qml',\n",
      "            'sha': 'c8d70e77625fc45502d29b187d52baa99b9155d3',\n",
      "            'status': 'modified'},\n",
      "           {'additions': 1,\n",
      "            'blob_url': 'https://github.com/emericg/OffloadBuddy/blob/40ff3ffd2c869f777ba15e4eb18d154262a277a5/qml/components_themed/ButtonImageThemed.qml',\n",
      "            'changes': 2,\n",
      "            'contents_url': 'https://api.github.com/repos/emericg/OffloadBuddy/contents/qml/components_themed/ButtonImageThemed.qml?ref=40ff3ffd2c869f777ba15e4eb18d154262a277a5',\n",
      "            'deletions': 1,\n",
      "            'filename': 'qml/components_themed/ButtonImageThemed.qml',\n",
      "            'patch': '@@ -1,6 +1,6 @@\\n'\n",
      "                     ' import QtQuick 2.9\\n'\n",
      "                     ' import QtQuick.Controls 2.2\\n'\n",
      "                     '-import QtGraphicalEffects 1.12\\n'\n",
      "                     '+import QtGraphicalEffects 1.0\\n'\n",
      "                     ' \\n'\n",
      "                     ' import com.offloadbuddy.theme 1.0\\n'\n",
      "                     ' ',\n",
      "            'raw_url': 'https://github.com/emericg/OffloadBuddy/raw/40ff3ffd2c869f777ba15e4eb18d154262a277a5/qml/components_themed/ButtonImageThemed.qml',\n",
      "            'sha': '2b239eb824787b32ab5534034294452c99db0908',\n",
      "            'status': 'modified'},\n",
      "           {'additions': 1,\n",
      "            'blob_url': 'https://github.com/emericg/OffloadBuddy/blob/40ff3ffd2c869f777ba15e4eb18d154262a277a5/qml/components_themed/ButtonImageWireframe.qml',\n",
      "            'changes': 2,\n",
      "            'contents_url': 'https://api.github.com/repos/emericg/OffloadBuddy/contents/qml/components_themed/ButtonImageWireframe.qml?ref=40ff3ffd2c869f777ba15e4eb18d154262a277a5',\n",
      "            'deletions': 1,\n",
      "            'filename': 'qml/components_themed/ButtonImageWireframe.qml',\n",
      "            'patch': '@@ -1,6 +1,6 @@\\n'\n",
      "                     ' import QtQuick 2.9\\n'\n",
      "                     ' import QtQuick.Controls 2.2\\n'\n",
      "                     '-import QtGraphicalEffects 1.12\\n'\n",
      "                     '+import QtGraphicalEffects 1.0\\n'\n",
      "                     ' \\n'\n",
      "                     ' import com.offloadbuddy.theme 1.0\\n'\n",
      "                     ' ',\n",
      "            'raw_url': 'https://github.com/emericg/OffloadBuddy/raw/40ff3ffd2c869f777ba15e4eb18d154262a277a5/qml/components_themed/ButtonImageWireframe.qml',\n",
      "            'sha': 'd2a02cd1b2688e1ee343b96e5e7fa89b4fe4e416',\n",
      "            'status': 'modified'}],\n",
      " 'node_id': 'MDY6Q29tbWl0MTQxNzk1OTUzOjQwZmYzZmZkMmM4NjlmNzc3YmExNWU0ZWIxOGQxNTQyNjJhMjc3YTU=',\n",
      " 'parents': [{'sha': '0887c89527bd5ed6dd58f9987707e356510526be'}],\n",
      " 'sha': '40ff3ffd2c869f777ba15e4eb18d154262a277a5',\n",
      " 'stats': {'additions': 36, 'deletions': 17, 'total': 53},\n",
      " 'url': 'https://api.github.com/repos/emericg/OffloadBuddy/commits/40ff3ffd2c869f777ba15e4eb18d154262a277a5'}\n"
     ]
    },
    {
     "name": "stderr",
     "output_type": "stream",
     "text": [
      "                                                                                "
     ]
    }
   ],
   "source": [
    "# convert to JSON (string) RDD\n",
    "json_rdd = commits_df.toJSON()\n",
    "\n",
    "# Parse the JSON strings before processing\n",
    "commit_rdd = json_rdd.map(lambda row: json.loads(row))\n",
    "pprint(commit_rdd.first())"
   ]
  },
  {
   "cell_type": "markdown",
   "id": "bfb6b8ee-d269-4971-8c87-56dec749c4c1",
   "metadata": {},
   "source": [
    "### Assignment 1\n",
    "Reductions are often used in data processing in order to gather more useful data out of raw data. \n",
    "\n",
    "In this case we want to know how many commits a given RDD contains.\n",
    "\n",
    "@param commits RDD containing commit data.\n",
    "\n",
    "@return Long indicating the number of commits in the given RDD.\n"
   ]
  },
  {
   "cell_type": "code",
   "execution_count": 4,
   "id": "e85125cb-71e4-4703-9d6f-328e4347f1f9",
   "metadata": {},
   "outputs": [],
   "source": [
    "def assignment_1(commit_rdd):\n",
    "    return commit_rdd.count()"
   ]
  },
  {
   "cell_type": "code",
   "execution_count": 5,
   "id": "1a70beaf-86d5-4d3f-9aed-c107ad602a35",
   "metadata": {},
   "outputs": [
    {
     "name": "stderr",
     "output_type": "stream",
     "text": [
      "                                                                                "
     ]
    }
   ],
   "source": [
    "# test\n",
    "result = assignment_1(commit_rdd)\n",
    "assert result == 10000"
   ]
  },
  {
   "cell_type": "markdown",
   "id": "b72f56a8-be43-4568-85a8-130c6dcaaee5",
   "metadata": {},
   "source": [
    "### Assignment 2\n",
    "We want to know how often programming languages are used in committed files. We require a RDD containing Tuples of the used file extension, combined with the number of occurrences. If no filename or file extension is used we assume the language to be 'unknown'.\n",
    "\n",
    "@param commits RDD containing commit data.\n",
    "\n",
    "@return RDD containing tuples indicating the programming language (extension) and number of occurrences.\"\"\""
   ]
  },
  {
   "cell_type": "code",
   "execution_count": 6,
   "id": "267154c6-6a02-4125-996e-4b0e65232f6f",
   "metadata": {},
   "outputs": [],
   "source": [
    "def assignment_2(commit_rdd):\n",
    "    result_rdd = (commit_rdd.flatMap(lambda commit: [fs['filename'] for fs in commit['files']])       # get filenames\n",
    "                           .map(lambda filename: filename if \".\" in filename else \"unknown\")          # determine unknown file extension cases\n",
    "                           .map(lambda filename: (filename.split(\".\")[-1], 1))                        # get file extensions for 'known files', add 1s for next step reduce\n",
    "                           .reduceByKey(lambda v1, v2: v1+v2)                                         # count per file extensions\n",
    "                 )\n",
    "    return result_rdd"
   ]
  },
  {
   "cell_type": "code",
   "execution_count": 7,
   "id": "cd1289c8-1656-4378-b80a-d2afcd31180e",
   "metadata": {},
   "outputs": [
    {
     "name": "stderr",
     "output_type": "stream",
     "text": [
      "                                                                                "
     ]
    }
   ],
   "source": [
    "# test\n",
    "result_rdd = assignment_2(commit_rdd)\n",
    "result_set = set(result_rdd.collect())\n",
    "expected = {(\"cmake\", 13), (\"png\", 4467)}\n",
    "assert expected.issubset(result_set) == True, f\"Expected {expected} not found in results\""
   ]
  },
  {
   "cell_type": "markdown",
   "id": "bd262c04-d17d-4d53-8abe-44e5044ee78b",
   "metadata": {},
   "source": [
    "### Assignment 3\n",
    "\n",
    "Competitive users on Github might be interested in their ranking in number of commits. We require as return a RDD containing Tuples of the rank (zero indexed) of a commit author, a commit authors name and the number of commits made by the commit author. As in general with performance rankings, a higher performance means a better ranking (0 = best). In case of a tie, the lexicographical ordering of the usernames should be used to break the tie.\n",
    "\n",
    "@param commits RDD containing commit data.\n",
    "\n",
    "@return RDD containing commit author names and total count of commits done by the author, in ordered fashion."
   ]
  },
  {
   "cell_type": "code",
   "execution_count": 8,
   "id": "9f067d54-4c40-4850-b866-d82c0a37ca4d",
   "metadata": {},
   "outputs": [],
   "source": [
    "def assignment_3(commit_rdd):\n",
    "    result_rdd = (commit_rdd\n",
    "                  .map(lambda commit_data: \n",
    "                       (commit_data['commit']['author']['name'], 1))  # get author names, with commit count per commit (=1)\n",
    "                  .reduceByKey(lambda v1, v2: v1+v2)                  # count commits per user\n",
    "                  .sortBy(lambda pair: pair[0], ascending=True)       # first ensure lexicographical ordering of the usernames \n",
    "                  .sortBy(lambda pair: pair[1], ascending=False)      # utilize pyspark stable ordering (keep lexicographical order to break ties), order by count\n",
    "                  .zipWithIndex()                                     # add ranks\n",
    "                  .map(lambda x: (x[1], x[0][0], x[0][1]))            # fix formatting, new format: (rank, name, count)\n",
    "                 )\n",
    "    return result_rdd"
   ]
  },
  {
   "cell_type": "code",
   "execution_count": 9,
   "id": "366ed262-69ac-47a2-a638-a863c342814a",
   "metadata": {},
   "outputs": [
    {
     "name": "stderr",
     "output_type": "stream",
     "text": [
      "                                                                                "
     ]
    }
   ],
   "source": [
    "# test\n",
    "result_rdd = assignment_3(commit_rdd)\n",
    "top_results = result_rdd.take(96)\n",
    "result_set = set(top_results)\n",
    "expected = {(8, \"Otto Taute\", 34), (9, \"SpeedTracker\", 33), (85, \"John\", 8)}\n",
    "assert True == expected.issubset(result_set), \"Expected subset not found in top results\""
   ]
  },
  {
   "cell_type": "markdown",
   "id": "94a3bc2c-673c-43ef-bb0e-51c6d3f4dec0",
   "metadata": {},
   "source": [
    "### Assignment 4\n",
    "Some users are interested in seeing an overall contribution of all their work. For this exercise we an RDD that contains the committer name and the total of their commits. As stats are optional, missing Stat cases should be handles as s\"Stat(0, 0, 0)\". If an User is given that is not in the dataset, then the username should not occur in the return RDD.\n",
    "\n",
    "@param commits RDD containing commit data.\n",
    "\n",
    "@return RDD containing committer names and an aggregation of the committers Stats.\n"
   ]
  },
  {
   "cell_type": "code",
   "execution_count": 10,
   "id": "141fe7f3-6505-4eae-85de-2947c0d04ed3",
   "metadata": {},
   "outputs": [],
   "source": [
    "def assignment_4(commit_rdd, users_list: List[str]):\n",
    "    result_rdd = (commit_rdd.map(lambda c_data: (c_data['commit']['author']['name'],             # get name\n",
    "                                                (c_data.get('stats', {}).get('total', 0),        # get total number of changes in this commit\n",
    "                                                c_data.get('stats', {}).get('additions', 0),     # get number of additions in this commit\n",
    "                                                c_data.get('stats', {}).get('deletions', 0))     # get number of deletions in this commit\n",
    "                                                ))                                            \n",
    "                            .filter(lambda t: t[0] in users_list)                                # keep users of interest\n",
    "                            .reduceByKey(lambda v1, v2: (v1[0]+v2[0], v1[1]+v2[1], v1[2]+v2[2])) # add them up per user across commits\n",
    "                            .map(lambda x: {x[0]: {\"total\": x[1][0],\n",
    "                                                  \"additions\": x[1][1],\n",
    "                                                  \"deletions\": x[1][2]}})                        # formatting\n",
    "                 )\n",
    "    return result_rdd"
   ]
  },
  {
   "cell_type": "code",
   "execution_count": 11,
   "id": "bd4fcd53-299f-4443-a16c-7f82c3a8cb46",
   "metadata": {},
   "outputs": [
    {
     "name": "stderr",
     "output_type": "stream",
     "text": [
      "                                                                                "
     ]
    }
   ],
   "source": [
    "# test\n",
    "result_rdd = assignment_4(commit_rdd, [\"Otto Taute\"])\n",
    "results = result_rdd.collect()\n",
    "expected_stats = {'total': 724, 'additions': 703, 'deletions': 21}\n",
    "expected_res = {\"Otto Taute\": expected_stats}\n",
    "assert expected_res == results[0], \"Stats for Otto Taute do not match\""
   ]
  },
  {
   "cell_type": "markdown",
   "id": "480db30f-e630-46f9-b3af-edeea465d0c8",
   "metadata": {},
   "source": [
    "### Assignment 5\n",
    "There are different types of people, those who own repositories, and those who make commits. Although Git blame is excellent in finding these types of people, we want to do it in Spark. We require as output an RDD containing the names of commit authors and repository owners that have either exclusively committed to repositories, or exclusively own repositories in the given RDD. Note that the repository owner is contained within Github urls.\n",
    "\n",
    "@param commits RDD containing commit data.\n",
    "\n",
    "@return RDD of Strings representing the username that have either only committed to repositories or only own repositories \n",
    "\n",
    "Note: consider comparisons only between the commit/author/name and the repo owner username found in the url."
   ]
  },
  {
   "cell_type": "code",
   "execution_count": 12,
   "id": "0e923cb8-89b8-4029-9633-f5718f4f2db6",
   "metadata": {},
   "outputs": [],
   "source": [
    "def assignment_5(commit_rdd):\n",
    "\n",
    "    # get distinct repo names\n",
    "    repos_rdd = commit_rdd.map(lambda c_data: c_data['url'].split(\"/\")[4]).distinct().collect()\n",
    "    repos_set = set(repos_rdd)\n",
    "    bc_repos = sc.broadcast(repos_set)\n",
    "\n",
    "    # get distinct user names \n",
    "    users_rdd = commit_rdd.map(lambda c_data: c_data['commit']['author']['name']).distinct().collect()\n",
    "    users_set = set(users_rdd)\n",
    "    bc_users = sc.broadcast(users_set)\n",
    "\n",
    "    # results: users who made commits but have no repos and repos that have no users committing with the same name\n",
    "    result_rdd = (commit_rdd.map(lambda c_data: c_data['commit']['author']['name'])\n",
    "                            .filter(lambda name: name not in bc_repos.value)\n",
    "                 ).union(\n",
    "                     (commit_rdd.map(lambda c_data: c_data['url'].split(\"/\")[4])\n",
    "                                .filter(lambda repo: repo not in bc_users.value)\n",
    "                     )\n",
    "                 )\n",
    "    \n",
    "    return result_rdd"
   ]
  },
  {
   "cell_type": "code",
   "execution_count": 13,
   "id": "0e199d94-ac8e-4704-9e53-95327b1273eb",
   "metadata": {
    "scrolled": true
   },
   "outputs": [
    {
     "name": "stderr",
     "output_type": "stream",
     "text": [
      "                                                                                "
     ]
    }
   ],
   "source": [
    "# test\n",
    "result_rdd = assignment_5(commit_rdd)\n",
    "results = set(result_rdd.collect())\n",
    "\n",
    "expected_subset = {\"EdenStrive\", \"Paul Blackmore\", \"nextgis\"}\n",
    "\n",
    "assert expected_subset.issubset(results), \"expected subset not in result\"\n"
   ]
  },
  {
   "cell_type": "markdown",
   "id": "3d99c2ec-cee7-44d4-936e-750d4ea26099",
   "metadata": {},
   "source": [
    "### Assignment 6\n",
    "\n",
    "Sometimes developers make mistakes, sometimes they make many. One way of observing mistakes in commits is by looking at so-called revert commits. We define a 'revert streak' as the number of times `Revert` occurs in a commit. Note that for a commit to be eligible for a 'commit streak', its message must start with `Revert`.\n",
    "\n",
    "As an example: `Revert \"Revert ...` would be a revert streak of 2, whilst `Oops, Revert Revert little mistake` would not be a 'revert streak' at all.\n",
    "\n",
    "We require as return a RDD containing Tuples of the username of a commit author and a Tuple containing the length of the longest streak of an user and how often said streak has occurred. Note that we are only interested in the longest commit streak of each author (and its frequency).\n",
    "\n",
    " @param commits RDD containing commit data.\n",
    "\n",
    " @return RDD of Tuple type containing a commit author username, and a tuple containing the length of the longest commit streak as well its frequency"
   ]
  },
  {
   "cell_type": "code",
   "execution_count": 14,
   "id": "675faced-cc8d-4fc9-b6c1-606e6b9356dd",
   "metadata": {},
   "outputs": [],
   "source": [
    "def assignment_6(commit_rdd):   \n",
    "    result_rdd = (commit_rdd.map(lambda c_data: \n",
    "                                 (c_data['commit']['author']['name'],           # keep relevant data: user names, commit messages\n",
    "                                  c_data['commit']['message']))\n",
    "                            .filter(lambda x: x[1].startswith(\"Revert \"))       # filter out all cases when commit message does not start with \"Revert \"\n",
    "                            .map(lambda x: ((x[0], x[1].count(\"Revert \")), 1))  # count number of 'Revert's in each case\n",
    "                            .reduceByKey(lambda v1, v2: v1+v2)                  # use count and user name as double key to get frequency by counting these\n",
    "                            .map(lambda x: ((x[0][0], x[1]), x[0][1]))          # format to be able to find max count per user: ((name, revert frequency), revert count)\n",
    "                            .reduceByKey(lambda c1, c2: max(c1, c2))            # keep cases with max count per user (and frequency)\n",
    "                            .map(lambda x: (x[0][0], (x[1], x[0][1])))          # format result: (name, (max count, frequency))\n",
    "                 )\n",
    "    return result_rdd\n",
    "\n"
   ]
  },
  {
   "cell_type": "code",
   "execution_count": 15,
   "id": "7982026c-f371-42ae-969c-3de5301d49f5",
   "metadata": {},
   "outputs": [
    {
     "name": "stderr",
     "output_type": "stream",
     "text": [
      "                                                                                "
     ]
    }
   ],
   "source": [
    "# test\n",
    "result = assignment_6(commit_rdd)\n",
    "result_set = set(result.collect())\n",
    "expected_set = set({(\"Oscar Näzell\", (2, 1)), \n",
    "                   (\"DMEdesignmyeye\", (2, 1)), \n",
    "                   (\"zebbykhairah\", (1, 1)),\n",
    "                   (\"sayan7848\", (1, 4)), \n",
    "                   (\"Max Stewart\", (1, 1)), \n",
    "                   (\"Yehuda Alkalay\", (1, 1)), \n",
    "                   (\"Aleksander Andresen\", (1, 1)),\n",
    "                   (\"joshuous\", (1, 2)), \n",
    "                   (\"jalalirs\", (1, 2)), \n",
    "                   (\"steverendell\", (1, 1)),\n",
    "                   ('Aurel Bílý', (1, 1)),\n",
    "                   ('David Bürgin', (1, 1)),\n",
    "                   ('James Santucci', (1, 1)),\n",
    "                   ('AzzyC', (1, 1)),\n",
    "                   ('hajeklu', (1, 1)),\n",
    "                   ('miraclestars', (1, 1)), \n",
    "                   ('François Kooman', (1, 1)) \n",
    "                   })\n",
    "\n",
    "assert expected_set == result_set, \"expected set does not match result set\""
   ]
  },
  {
   "cell_type": "markdown",
   "id": "8a2ff164-c54d-42bf-88ad-58ce08e39c5b",
   "metadata": {},
   "source": [
    "### Assignment 7\n",
    "We want to know the number of commits that are made to each repository contained in the given RDD. Besides the number of commits, we also want to know the unique committers that contributed to the repository. \n",
    "\n",
    "Note that from this exercise on, expensive functions like groupBy are no longer allowed to be used. In real life these wide dependency functions are performance killers, but luckily there are better performing alternatives! The automatic graders will check the computation history of the returned RDD's.\n",
    "\n",
    "@param commits RDD containing commit data.\n",
    "\n",
    "@return RDD containing a tuple indicating the repository name, the number of commits made to the repository as well as the unique committer usernames that committed to the repository."
   ]
  },
  {
   "cell_type": "code",
   "execution_count": 16,
   "id": "b8c46d38-bd38-4aac-9c53-6ca1acecf4f5",
   "metadata": {},
   "outputs": [],
   "source": [
    "def assignment_7(commit_rdd):\n",
    "    result_rdd = (commit_rdd.map(lambda c_data: \n",
    "                                 (c_data['url'].split(\"/\")[5],               # get relevant data: repo name, committer name (commit/author/name) - put names in sets, init 1 for count     \n",
    "                                 ({c_data['commit']['author']['name']}, 1)))  \n",
    "                            .reduceByKey(lambda v1, v2: (v1[0].union(v2[0]), # reduce by key: count commits per repo name, collect usernames by unioning sets\n",
    "                                                         v1[1]+v2[1]))\n",
    "                            .map(lambda x: (x[0], x[1][1], tuple(x[1][0])))  # formatting\n",
    "                 )\n",
    "    return result_rdd"
   ]
  },
  {
   "cell_type": "code",
   "execution_count": 17,
   "id": "27678b1e-c0e6-4d19-8164-e2f8daeb2ed4",
   "metadata": {},
   "outputs": [
    {
     "name": "stderr",
     "output_type": "stream",
     "text": [
      "                                                                                "
     ]
    }
   ],
   "source": [
    "# test\n",
    "result = assignment_7(commit_rdd)\n",
    "\n",
    "\n",
    "\n",
    "expected_set = {(\"SharedUmbrella\", 1, (\"AlbertGandolf\", ))}\n",
    "\n",
    "result_test_set = set(result.filter(lambda x: x[0] == \"SharedUmbrella\").collect())\n",
    "\n",
    "assert  expected_set == result_test_set"
   ]
  },
  {
   "cell_type": "markdown",
   "id": "883ba3a1-8381-4e94-9ea6-7512d6426851",
   "metadata": {},
   "source": [
    "### Assignment 8\n",
    "Return RDD of tuples containing the repository name and all the files that are contained in that repository.\n",
    "Note that the file names must be unique, so if files occur multiple times (for example due to removal, or new additions), the newest File object must be returned. As the files' filenames are an `Option[String]` discard the files that do not have a filename.\n",
    "\n",
    "@param commits RDD containing commit data.\n",
    "\n",
    "@return RDD containing the files in each repository as described above."
   ]
  },
  {
   "cell_type": "code",
   "execution_count": 18,
   "id": "da63a4f9-aad2-4d4f-8211-86e507bb9373",
   "metadata": {},
   "outputs": [],
   "source": [
    "def assignment_8(commit_rdd):\n",
    "    result_rdd = (\n",
    "        commit_rdd.flatMap(lambda c_data: [((c_data['url'].split(\"/\")[5],        # gather necessaary data: repo names (from url), filenames (files[array]/element/filename), file objects (files[array]/element) - use flatmap to get each file element separately, commit/author/date to find latest versions\n",
    "                                            file_object.get(\"filename\", None)),  # map so that keys are: repo name and filename\n",
    "                                            (file_object, \n",
    "                                             c_data['commit']['author']['date'])) for file_object in c_data['files']])\n",
    "                  .filter(lambda x: x[0][1] is not None)                         # filter cases when no filename is given\n",
    "                  .reduceByKey(lambda v1, v2: v1 if v1[1][1] > v2[1][1] else v2) # reduce by key: keep entries with latest dates\n",
    "                  .map(lambda x: (x[0][0], [x[1][0]]))                           # formatting: (repo, list([file object]))\n",
    "                  .reduceByKey(lambda v1, v2: v1 + v2)                           # combine latest file objects into a list per repo\n",
    "        \n",
    "    )\n",
    "\n",
    "    return result_rdd"
   ]
  },
  {
   "cell_type": "code",
   "execution_count": 19,
   "id": "44c6a08f-7929-4b6e-8d6c-e1f1e5aca701",
   "metadata": {},
   "outputs": [
    {
     "name": "stderr",
     "output_type": "stream",
     "text": [
      "                                                                                "
     ]
    }
   ],
   "source": [
    "# test\n",
    "result_rdd = assignment_8(commit_rdd)\n",
    "\n",
    "result_subset1 = (result_rdd.filter(lambda x: x[0] == \"hackaton-pelicula-009\")\n",
    "                            .flatMap(lambda x: [(x[0], file[\"filename\"], file[\"sha\"]) for file in x[1]])\n",
    "                            .filter(lambda x: x[1] == \"src/style.css\")\n",
    "                            .collect()\n",
    "                           )\n",
    "\n",
    "assert result_subset1[0][2] == \"eea08e79ef5ba079af92e5eebad9239bd128213e\", \"sample commit sha incorrect\""
   ]
  },
  {
   "cell_type": "markdown",
   "id": "1c28fdb0-dcbb-40c8-b0a7-c6a74a8bb59c",
   "metadata": {},
   "source": [
    "### Assignment 9\n",
    "\n",
    "For this assignment you are asked to find all the files of a single repository. This in order to create an overview of each files, do this by creating a tuple containing the file name, all corresponding commit SHA's as well as a Stat object representing the changes made to the file.\n",
    "\n",
    "@param commits RDD containing commit data.\n",
    "\n",
    "@return RDD containing Tuples representing a file name, its corresponding commit SHA's and a Stats object representing the total aggregation of changes for a file. Format: RDD[(filename: String, SHAs: Seq[String], Stats: Tuple[int, int, int])]"
   ]
  },
  {
   "cell_type": "code",
   "execution_count": 20,
   "id": "a5ab944c-6171-48a5-8438-721514cb3b9a",
   "metadata": {},
   "outputs": [],
   "source": [
    "def assignment_9(commit_rdd, repo_name):\n",
    "    result_rdd = (commit_rdd.filter(lambda c_data: c_data[\"url\"].split(\"/\")[5] == repo_name)  # filter out irrelevant repos\n",
    "                            .flatMap(lambda c_data: [(file.get('filename', None),             # get relevant data: filenames, commit sha (per file), stats (flatMap), use filenames as keys\n",
    "                                                      ([file.get('sha', None)], \n",
    "                                                       (file.get('changes', None), \n",
    "                                                        file.get('additions', None), \n",
    "                                                        file.get('deletions', None)\n",
    "                                                       ))) \n",
    "                                                     for file in c_data[\"files\"]])\n",
    "                            .reduceByKey(lambda v1, v2:                        # reduce by key to merge shas into one list, add up stats\n",
    "                                                         (v1[0] + v2[0],       # combine shas\n",
    "                                                         (v1[1][0]+v2[1][0],   # changes\n",
    "                                                         v1[1][1]+v2[1][1],    # additions\n",
    "                                                         v1[1][2]+v2[1][2]))   # deletions\n",
    "                                        )\n",
    "                            .map(lambda x: (x[0], x[1][0], x[1][1]))           # formatting\n",
    "                \n",
    "                )\n",
    "\n",
    "    return result_rdd\n",
    "    "
   ]
  },
  {
   "cell_type": "code",
   "execution_count": 21,
   "id": "b87eedcb-26c5-4d5e-bfbd-57d478cd8843",
   "metadata": {},
   "outputs": [
    {
     "name": "stderr",
     "output_type": "stream",
     "text": [
      "                                                                                "
     ]
    }
   ],
   "source": [
    "# test\n",
    "expected_num_files = 40\n",
    "expected_file1_key = \"rustfmt.toml\"\n",
    "expected_stats_file1 = (12, 12, 0)\n",
    "\n",
    "result_rdd = assignment_9(commit_rdd, \"gitlab-rs\")\n",
    "result_file1 = result_rdd.filter(lambda x: x[0] == expected_file1_key).collect()[0]\n",
    "\n",
    "assert result_file1[2] == expected_stats_file1\n",
    "assert len(result_rdd.collect()) == expected_num_files"
   ]
  },
  {
   "cell_type": "markdown",
   "id": "d191aca1-1441-447a-a66c-4e31d0064b06",
   "metadata": {},
   "source": [
    "### Assignment 10\n",
    "We want to generate an overview of the work done by an user per repository. For this we request an RDD containing a tuple containing the committer username, repository name and a `Stats` object. The Stats object containing the total number of additions, deletions and total contribution.\n",
    "\n",
    "@param commits RDD containing commit data.\n",
    "\n",
    "@return RDD containing tuples of committer names, repository names and and Option[Stat] representing additions and deletions."
   ]
  },
  {
   "cell_type": "code",
   "execution_count": 57,
   "id": "62478498-9288-4e63-9a4d-93fd8db7bf5c",
   "metadata": {},
   "outputs": [],
   "source": [
    "def assignment_10(commit_rdd):\n",
    "    result_rdd = (commit_rdd.map(lambda c_data: ((c_data[\"commit\"][\"committer\"][\"name\"],        # get relevant data: committer name, repo name, stats, make name and repo the keys\n",
    "                                                 c_data[\"url\"].split(\"/\")[5]),\n",
    "                                               (c_data.get(\"stats\", {}).get(\"total\", 0),        \n",
    "                                                c_data.get(\"stats\", {}).get(\"additions\", 0), \n",
    "                                                c_data.get(\"stats\", {}).get(\"deletions\", 0))))\n",
    "                            .reduceByKey(lambda v1, v2: (v1[0]+v2[0], v1[1]+v2[1],v1[2]+v2[2])) # reduce by key to add up stats\n",
    "                            .map(lambda x: (x[0][0], x[0][1], x[1]))                            # format result\n",
    "                 )\n",
    "    return result_rdd"
   ]
  },
  {
   "cell_type": "code",
   "execution_count": 58,
   "id": "ceb5192b-3dc2-412a-9bf7-a8a8d6a3cb53",
   "metadata": {},
   "outputs": [
    {
     "name": "stderr",
     "output_type": "stream",
     "text": [
      "                                                                                "
     ]
    }
   ],
   "source": [
    "# test\n",
    "result_rdd = assignment_10(commit_rdd)\n",
    "result_list = result_rdd.collect()\n",
    "\n",
    "expected_set = {(\"GitHub\", \"danfe\", (0, 0, 0)), \n",
    "                (\"ivankovskiy-pc\", \"AIM-Chat\", (75, 45, 30))}\n",
    "\n",
    "result_set = set(result_list)\n",
    "assert expected_set.issubset(result_set) == True, \"expected subset not in result\""
   ]
  },
  {
   "cell_type": "code",
   "execution_count": 59,
   "id": "a7e9d743-c443-4735-9972-fc4c0be0b145",
   "metadata": {},
   "outputs": [],
   "source": [
    "# stop spark\n",
    "spark.stop()"
   ]
  },
  {
   "cell_type": "code",
   "execution_count": null,
   "id": "83ce70f0-4370-4b5f-ab75-d4e7d5cd0b8a",
   "metadata": {},
   "outputs": [],
   "source": []
  }
 ],
 "metadata": {
  "kernelspec": {
   "display_name": "Python 3 (ipykernel)",
   "language": "python",
   "name": "python3"
  },
  "language_info": {
   "codemirror_mode": {
    "name": "ipython",
    "version": 3
   },
   "file_extension": ".py",
   "mimetype": "text/x-python",
   "name": "python",
   "nbconvert_exporter": "python",
   "pygments_lexer": "ipython3",
   "version": "3.12.3"
  }
 },
 "nbformat": 4,
 "nbformat_minor": 5
}
